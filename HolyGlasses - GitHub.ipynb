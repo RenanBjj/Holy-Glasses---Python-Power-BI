{
 "cells": [
  {
   "cell_type": "markdown",
   "id": "bf6c5a58",
   "metadata": {},
   "source": [
    "# Tratamento de dados da Ótica Holy Glasses\n",
    "Para criação de Dashboard no Power BI"
   ]
  },
  {
   "cell_type": "markdown",
   "id": "e114b2af",
   "metadata": {},
   "source": [
    "    # Fiz a limpeza dos outputs para ocultar qualquer tipo de dado sensível."
   ]
  },
  {
   "cell_type": "code",
   "execution_count": 3,
   "id": "7c57de39",
   "metadata": {},
   "outputs": [],
   "source": [
    "import pandas as pd"
   ]
  },
  {
   "cell_type": "code",
   "execution_count": null,
   "id": "5b9961c2",
   "metadata": {},
   "outputs": [],
   "source": [
    "df = pd.read_csv('C:/Users/Casa/Desktop/PBI/CSV Files/2021 - 2022 - 03.csv', encoding='latin1')\n",
    "df.head()"
   ]
  },
  {
   "cell_type": "code",
   "execution_count": 114,
   "id": "ea0891e8",
   "metadata": {},
   "outputs": [],
   "source": [
    "df.dropna(how='all', inplace=True)\n",
    "\n",
    "# Foi constatado diversas linhas sem nenhum valor e retiradas do DataFrame."
   ]
  },
  {
   "cell_type": "code",
   "execution_count": 115,
   "id": "90120ff9",
   "metadata": {},
   "outputs": [
    {
     "data": {
      "text/plain": [
       "Index(['Número Venda', 'Data', 'Status', 'Número OS', 'Funcionário', 'Cliente',\n",
       "       'Documento', 'Endereço', 'Telefones', 'Origem do Cliente',\n",
       "       'Valor Total', 'Valor Líquido', 'Desconto/Acréscimo na Venda',\n",
       "       'Crédito Trocas', 'Observação', 'Item Referência', 'Item Descrição',\n",
       "       'Item Quantidade', 'Item Valor', 'Desconto / Acréscimo no Item',\n",
       "       'Item Valor Total'],\n",
       "      dtype='object')"
      ]
     },
     "execution_count": 115,
     "metadata": {},
     "output_type": "execute_result"
    }
   ],
   "source": [
    "df.columns"
   ]
  },
  {
   "cell_type": "code",
   "execution_count": 116,
   "id": "6ffa5f33",
   "metadata": {},
   "outputs": [],
   "source": [
    "df = df[['Número Venda', 'Data', 'Funcionário', 'Cliente',\n",
    "       'Valor Total', 'Valor Líquido', 'Desconto/Acréscimo na Venda',\n",
    "       'Item Referência', 'Item Descrição',\n",
    "       'Item Quantidade', 'Item Valor', 'Item Valor Total']]\n",
    "\n",
    "# Selecionado apenas as colunas relevantes para a criação do Dashboard"
   ]
  },
  {
   "cell_type": "code",
   "execution_count": 117,
   "id": "e007b6a0",
   "metadata": {
    "scrolled": true
   },
   "outputs": [
    {
     "data": {
      "text/plain": [
       "Número Venda                   2065\n",
       "Data                           2065\n",
       "Funcionário                    2065\n",
       "Cliente                        2065\n",
       "Valor Total                    2065\n",
       "Valor Líquido                  2092\n",
       "Desconto/Acréscimo na Venda       0\n",
       "Item Referência                   0\n",
       "Item Descrição                    0\n",
       "Item Quantidade                   0\n",
       "Item Valor                        0\n",
       "Item Valor Total                  0\n",
       "dtype: int64"
      ]
     },
     "execution_count": 117,
     "metadata": {},
     "output_type": "execute_result"
    }
   ],
   "source": [
    "df['Desconto/Acréscimo na Venda'] = df['Desconto/Acréscimo na Venda'].fillna(0)\n",
    "df.isna().sum()\n",
    "\n",
    "# As vendas que não tinham desconto nem acréscimo, estavam com valores núlos\n",
    "# Corrigido o problema colocando 0"
   ]
  },
  {
   "cell_type": "code",
   "execution_count": null,
   "id": "e05a730c",
   "metadata": {},
   "outputs": [],
   "source": [
    "df = df.fillna('')\n",
    "df = df.replace('',method='ffill')\n",
    "\n",
    "df.head()\n",
    "\n",
    "# Foi constatado que as vendas com mais de 1 item não repetia os dados em todas as linhas.\n",
    "# Se a venda tinha 2 ou mais itens, apenas a primeira linha vinha completa e as linhas de baixo\n",
    "# vinham faltando número de venda, data, funcionário, cliente, valor total e valor líquido.\n",
    "# Fiz um preenchimento dessas linhas baseado na primeira linha da venda. (onde ele copia os dados da primeira linha)"
   ]
  },
  {
   "cell_type": "code",
   "execution_count": 120,
   "id": "85fc87af",
   "metadata": {},
   "outputs": [
    {
     "data": {
      "text/plain": [
       "Número Venda                   0\n",
       "Data                           0\n",
       "Funcionário                    0\n",
       "Cliente                        0\n",
       "Valor Total                    0\n",
       "Valor Líquido                  0\n",
       "Desconto/Acréscimo na Venda    0\n",
       "Item Referência                0\n",
       "Item Descrição                 0\n",
       "Item Quantidade                0\n",
       "Item Valor                     0\n",
       "Item Valor Total               0\n",
       "dtype: int64"
      ]
     },
     "execution_count": 120,
     "metadata": {},
     "output_type": "execute_result"
    }
   ],
   "source": [
    "df.isna().sum()"
   ]
  },
  {
   "cell_type": "code",
   "execution_count": null,
   "id": "a88255a7",
   "metadata": {},
   "outputs": [],
   "source": [
    "df['Dia'] = df['Data'].apply(lambda x: x.split('/')[0])\n",
    "df['Mes'] = df['Data'].apply(lambda x: x.split('/')[1])\n",
    "df['Ano'] = df['Data'].apply(lambda x: x.split('/')[2])\n",
    "df['Ano'] = df['Ano'].apply(lambda x: x.split(' ')[0])\n",
    "df['Data'] = df['Data'].apply(lambda x: x.split(' ')[0])\n",
    "df.head()\n",
    "\n",
    "# Criei as colunas Dia, Mes e Ano e reduzi a coluna Data para apresentar apenas a data sem horário."
   ]
  },
  {
   "cell_type": "code",
   "execution_count": 123,
   "id": "cff2032a",
   "metadata": {},
   "outputs": [
    {
     "data": {
      "text/plain": [
       "Index(['Número Venda', 'Data', 'Funcionário', 'Cliente', 'Valor Total',\n",
       "       'Valor Líquido', 'Desconto/Acréscimo na Venda', 'Item Referência',\n",
       "       'Item Descrição', 'Item Quantidade', 'Item Valor', 'Item Valor Total',\n",
       "       'Dia', 'Mes', 'Ano'],\n",
       "      dtype='object')"
      ]
     },
     "execution_count": 123,
     "metadata": {},
     "output_type": "execute_result"
    }
   ],
   "source": [
    "df.columns"
   ]
  },
  {
   "cell_type": "code",
   "execution_count": 124,
   "id": "eaea50e2",
   "metadata": {},
   "outputs": [],
   "source": [
    "df.columns = ['Numero_Venda', 'Data', 'Funcionario', 'Cliente', 'Valor_Total',\n",
    "       'Valor_Liquido', 'Desconto_Acrescimo_na_Venda', 'Item_Referencia',\n",
    "       'Item_Descricao', 'Item_Quantidade', 'Item_Valor', 'Item_Valor_Total',\n",
    "       'Dia', 'Mes', 'Ano']\n",
    "\n",
    "# Colunas renomeadas eliminando caracteres especiais e espaços"
   ]
  },
  {
   "cell_type": "code",
   "execution_count": null,
   "id": "34fecaac",
   "metadata": {},
   "outputs": [],
   "source": [
    "df = df[['Numero_Venda', 'Data', 'Funcionario', 'Cliente', 'Desconto_Acrescimo_na_Venda', 'Item_Referencia',\n",
    "       'Item_Descricao', 'Item_Quantidade', 'Item_Valor', 'Item_Valor_Total',\n",
    "       'Dia', 'Mes', 'Ano']]\n",
    "\n",
    "df.head(10)\n",
    "\n",
    "# Selecionando apenas colunas relevantes"
   ]
  },
  {
   "cell_type": "code",
   "execution_count": null,
   "id": "a6a783d2",
   "metadata": {},
   "outputs": [],
   "source": [
    "df.groupby(['Ano', 'Mes'])['Desconto_Acrescimo_na_Venda Item_Quantidade Item_Valor Item_Valor_Total'.split()].sum()\n",
    "\n",
    "# Apenas conferindo se os valores estão de acordo"
   ]
  },
  {
   "cell_type": "code",
   "execution_count": 157,
   "id": "ebf76b03",
   "metadata": {},
   "outputs": [],
   "source": [
    "df.to_csv('Holy Glasses.csv', index=False)\n",
    "\n",
    "# Salvo como CSV para abertura no Power BI"
   ]
  }
 ],
 "metadata": {
  "kernelspec": {
   "display_name": "Python 3 (ipykernel)",
   "language": "python",
   "name": "python3"
  },
  "language_info": {
   "codemirror_mode": {
    "name": "ipython",
    "version": 3
   },
   "file_extension": ".py",
   "mimetype": "text/x-python",
   "name": "python",
   "nbconvert_exporter": "python",
   "pygments_lexer": "ipython3",
   "version": "3.9.7"
  }
 },
 "nbformat": 4,
 "nbformat_minor": 5
}
